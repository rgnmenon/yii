{
  "nbformat": 4,
  "nbformat_minor": 0,
  "metadata": {
    "colab": {
      "provenance": [],
      "authorship_tag": "ABX9TyMD0OCokr8jmAUoIrFnORya",
      "include_colab_link": true
    },
    "kernelspec": {
      "name": "python3",
      "display_name": "Python 3"
    },
    "language_info": {
      "name": "python"
    }
  },
  "cells": [
    {
      "cell_type": "markdown",
      "metadata": {
        "id": "view-in-github",
        "colab_type": "text"
      },
      "source": [
        "<a href=\"https://colab.research.google.com/github/rgnmenon/yii/blob/master/Funcs.ipynb\" target=\"_parent\"><img src=\"https://colab.research.google.com/assets/colab-badge.svg\" alt=\"Open In Colab\"/></a>"
      ]
    },
    {
      "cell_type": "code",
      "source": [
        "# Why do you need Functions?\n",
        "# Extend pre defined capablities of pyhton\n",
        "# avoid repated code\n",
        "\n",
        "# Functions are of two kinds\n",
        "# 1) Pre-Defined\n",
        " # Someone thought of simething useful and did created some\n",
        " # we already know print()  str() and len() functions\n",
        "# 2) User/ Developer Defined\n",
        "\n",
        "name = \"Anna\"\n",
        "print (\"Hello \"+ name)\n",
        "print (\"Next block of same code\")\n",
        "name = \"Shasta\"\n",
        "print (\"Hello \"+ name)"
      ],
      "metadata": {
        "colab": {
          "base_uri": "https://localhost:8080/"
        },
        "id": "QAXgCC-iyYwd",
        "outputId": "76870a42-7f77-4b24-caa6-c6b1106572cd"
      },
      "execution_count": 2,
      "outputs": [
        {
          "output_type": "stream",
          "name": "stdout",
          "text": [
            "Hello Anna\n",
            "Next block of same code\n",
            "Hello Shasta\n"
          ]
        }
      ]
    },
    {
      "cell_type": "code",
      "execution_count": 6,
      "metadata": {
        "id": "WoVbuI6FbkH1"
      },
      "outputs": [],
      "source": [
        "# do this one thing and you are on you way ..\n",
        "#parts def - func_name() - :\n",
        "# optionall return"
      ]
    },
    {
      "cell_type": "code",
      "source": [
        "def say_hello(name):\n",
        "  print (\"Hello \"+ name)"
      ],
      "metadata": {
        "id": "3eYwpCJLbzHv"
      },
      "execution_count": 7,
      "outputs": []
    },
    {
      "cell_type": "code",
      "source": [
        "say_hello(\"Anna\")\n",
        "say_hello(\"Shasta\")\n",
        "\n"
      ],
      "metadata": {
        "colab": {
          "base_uri": "https://localhost:8080/"
        },
        "id": "PwR62I4Vb-8L",
        "outputId": "49d77edc-e0b7-46c8-c4cf-9229bdad7188"
      },
      "execution_count": 8,
      "outputs": [
        {
          "output_type": "stream",
          "name": "stdout",
          "text": [
            "Hello Anna\n",
            "Hello Shasta\n"
          ]
        }
      ]
    },
    {
      "cell_type": "code",
      "source": [
        "#This function returns the code.\n",
        "def add(num1: int, num2: int) -> int:\n",
        "    \"\"\"Add two numbers\"\"\" # recommended paractice - not mandatory\n",
        "    num3 = num1 + num2\n",
        "\n",
        "    return num3"
      ],
      "metadata": {
        "id": "bgv8mne1cYFc"
      },
      "execution_count": null,
      "outputs": []
    },
    {
      "cell_type": "code",
      "source": [
        "print(add(1,1))\n",
        "print(add(1,100))"
      ],
      "metadata": {
        "colab": {
          "base_uri": "https://localhost:8080/"
        },
        "id": "5RwKymt3caFB",
        "outputId": "267ecc03-1727-4b22-cb7b-91acfbd205ce"
      },
      "execution_count": null,
      "outputs": [
        {
          "output_type": "stream",
          "name": "stdout",
          "text": [
            "2\n",
            "101\n"
          ]
        }
      ]
    }
  ]
}